{
  "nbformat": 4,
  "nbformat_minor": 0,
  "metadata": {
    "colab": {
      "provenance": []
    },
    "kernelspec": {
      "name": "python3",
      "display_name": "Python 3"
    },
    "language_info": {
      "name": "python"
    }
  },
  "cells": [
    {
      "cell_type": "code",
      "execution_count": 1,
      "metadata": {
        "colab": {
          "base_uri": "https://localhost:8080/"
        },
        "id": "HaLUwJmO-mZJ",
        "outputId": "54905ea4-e704-4c9b-89a9-d66b1bcd1dab"
      },
      "outputs": [
        {
          "output_type": "stream",
          "name": "stdout",
          "text": [
            "\r0% [Working]\r            \rGet:1 http://security.ubuntu.com/ubuntu bionic-security InRelease [88.7 kB]\n",
            "\r0% [Waiting for headers] [1 InRelease 14.2 kB/88.7 kB 16%] [Waiting for headers\r                                                                               \rGet:2 https://cloud.r-project.org/bin/linux/ubuntu bionic-cran40/ InRelease [3,626 B]\n",
            "\r0% [Waiting for headers] [1 InRelease 14.2 kB/88.7 kB 16%] [2 InRelease 3,626 B\r0% [Waiting for headers] [1 InRelease 17.1 kB/88.7 kB 19%] [Waiting for headers\r                                                                               \rHit:3 http://archive.ubuntu.com/ubuntu bionic InRelease\n",
            "\r0% [Waiting for headers] [1 InRelease 17.1 kB/88.7 kB 19%] [Waiting for headers\r0% [2 InRelease gpgv 3,626 B] [Waiting for headers] [1 InRelease 20.0 kB/88.7 k\r                                                                               \rGet:4 http://archive.ubuntu.com/ubuntu bionic-updates InRelease [88.7 kB]\n",
            "\r0% [2 InRelease gpgv 3,626 B] [4 InRelease 14.2 kB/88.7 kB 16%] [1 InRelease 40\r                                                                               \rIgn:5 https://developer.download.nvidia.com/compute/machine-learning/repos/ubuntu1804/x86_64  InRelease\n",
            "\r0% [2 InRelease gpgv 3,626 B] [4 InRelease 15.6 kB/88.7 kB 18%] [1 InRelease 65\r                                                                               \rHit:6 https://developer.download.nvidia.com/compute/cuda/repos/ubuntu1804/x86_64  InRelease\n",
            "\r0% [2 InRelease gpgv 3,626 B] [4 InRelease 15.6 kB/88.7 kB 18%] [1 InRelease 86\r0% [2 InRelease gpgv 3,626 B] [4 InRelease 24.3 kB/88.7 kB 27%] [Waiting for he\r                                                                               \rHit:7 https://developer.download.nvidia.com/compute/machine-learning/repos/ubuntu1804/x86_64  Release\n",
            "Hit:8 http://ppa.launchpad.net/c2d4u.team/c2d4u4.0+/ubuntu bionic InRelease\n",
            "Get:9 http://archive.ubuntu.com/ubuntu bionic-backports InRelease [83.3 kB]\n",
            "Hit:10 http://ppa.launchpad.net/cran/libgit2/ubuntu bionic InRelease\n",
            "Hit:11 http://ppa.launchpad.net/deadsnakes/ppa/ubuntu bionic InRelease\n",
            "Get:12 http://ppa.launchpad.net/graphics-drivers/ppa/ubuntu bionic InRelease [21.3 kB]\n",
            "Get:13 http://security.ubuntu.com/ubuntu bionic-security/restricted amd64 Packages [1,307 kB]\n",
            "Get:14 http://security.ubuntu.com/ubuntu bionic-security/multiverse amd64 Packages [22.9 kB]\n",
            "Get:16 http://archive.ubuntu.com/ubuntu bionic-updates/multiverse amd64 Packages [30.0 kB]\n",
            "Get:17 http://archive.ubuntu.com/ubuntu bionic-updates/restricted amd64 Packages [1,348 kB]\n",
            "Get:18 http://archive.ubuntu.com/ubuntu bionic-updates/main amd64 Packages [3,519 kB]\n",
            "Get:19 http://ppa.launchpad.net/graphics-drivers/ppa/ubuntu bionic/main amd64 Packages [40.8 kB]\n",
            "Fetched 6,552 kB in 7s (942 kB/s)\n",
            "Reading package lists... Done\n"
          ]
        }
      ],
      "source": [
        "import os\n",
        "# Find the latest version of spark 3.0  from http://www.apache.org/dist/spark/ and enter as the spark version\n",
        "# For example:\n",
        "spark_version = 'spark-3.3.1'\n",
        "os.environ['SPARK_VERSION']=spark_version\n",
        "\n",
        "# Install Spark and Java\n",
        "!apt-get update\n",
        "!apt-get install openjdk-11-jdk-headless -qq > /dev/null\n",
        "!wget -q http://www.apache.org/dist/spark/$SPARK_VERSION/$SPARK_VERSION-bin-hadoop3.tgz\n",
        "!tar xf $SPARK_VERSION-bin-hadoop3.tgz\n",
        "!pip install -q findspark\n",
        "\n",
        "# Set Environment Variables\n",
        "os.environ[\"JAVA_HOME\"] = \"/usr/lib/jvm/java-11-openjdk-amd64\"\n",
        "os.environ[\"SPARK_HOME\"] = f\"/content/{spark_version}-bin-hadoop3\"\n",
        "\n",
        "# Start a SparkSession\n",
        "import findspark\n",
        "findspark.init()"
      ]
    },
    {
      "cell_type": "code",
      "source": [
        "from pyspark.sql import SparkSession\n",
        "spark = SparkSession.builder.appName(\"M16-Amazon-Challenge\").config(\"spark.driver.extraClassPath\",\"/content/postgresql-42.2.16.jar\").getOrCreate()"
      ],
      "metadata": {
        "id": "InE2P-xx-s98"
      },
      "execution_count": 2,
      "outputs": []
    },
    {
      "cell_type": "code",
      "source": [
        "# Load amazon data into pyspark\n",
        "from pyspark import SparkFiles\n",
        "url = \"https://s3.amazonaws.com/amazon-reviews-pds/tsv/amazon_reviews_us_Wireless_v1_00.tsv.gz\"\n",
        "spark.sparkContext.addFile(url)\n",
        "df = spark.read.option(\"encoding\", \"UTF-8\").csv(SparkFiles.get(\"amazon_reviews_us_Wireless_v1_00.tsv.gz\"), sep=\"\\t\", header=True, inferSchema=True)\n",
        "df.show()"
      ],
      "metadata": {
        "colab": {
          "base_uri": "https://localhost:8080/"
        },
        "id": "oreu3lVj-wEo",
        "outputId": "315fd222-6491-4c5f-d769-ab5ba7ef0ba8"
      },
      "execution_count": 3,
      "outputs": [
        {
          "output_type": "stream",
          "name": "stdout",
          "text": [
            "+-----------+-----------+--------------+----------+--------------+--------------------+----------------+-----------+-------------+-----------+----+-----------------+--------------------+--------------------+-------------------+\n",
            "|marketplace|customer_id|     review_id|product_id|product_parent|       product_title|product_category|star_rating|helpful_votes|total_votes|vine|verified_purchase|     review_headline|         review_body|        review_date|\n",
            "+-----------+-----------+--------------+----------+--------------+--------------------+----------------+-----------+-------------+-----------+----+-----------------+--------------------+--------------------+-------------------+\n",
            "|         US|   16414143|R3W4P9UBGNGH1U|B00YL0EKWE|     852431543|LG G4 Case Hard T...|        Wireless|          2|            1|          3|   N|                Y|Looks good, funct...|2 issues  -  Once...|2015-08-31 00:00:00|\n",
            "|         US|   50800750|R15V54KBMTQWAY|B00XK95RPQ|     516894650|Selfie Stick Fibl...|        Wireless|          4|            0|          0|   N|                N| A fun little gadget|I’m embarrassed t...|2015-08-31 00:00:00|\n",
            "|         US|   15184378| RY8I449HNXSVF|B00SXRXUKO|     984297154|Tribe AB40 Water ...|        Wireless|          5|            0|          0|   N|                Y|          Five Stars|  Fits iPhone 6 well|2015-08-31 00:00:00|\n",
            "|         US|   10203548|R18TLJYCKJFLSR|B009V5X1CE|     279912704|RAVPower® Element...|        Wireless|          5|            0|          0|   N|                Y|       Great charger|Great charger.  I...|2015-08-31 00:00:00|\n",
            "|         US|     488280|R1NK26SWS53B8Q|B00D93OVF0|     662791300|Fosmon Micro USB ...|        Wireless|          5|            0|          0|   N|                Y|          Five Stars|Great for the pri...|2015-08-31 00:00:00|\n",
            "|         US|   13334021|R11LOHEDYJALTN|B00XVGJMDQ|     421688488|iPhone 6 Case, Vo...|        Wireless|          5|            0|          0|   N|                Y|          Five Stars|Great Case, bette...|2015-08-31 00:00:00|\n",
            "|         US|   27520697|R3ALQVQB2P9LA7|B00KQW1X1C|     554285554|Nokia Lumia 630 R...|        Wireless|          4|            0|          0|   N|                Y|          Four Stars|Easy to set up an...|2015-08-31 00:00:00|\n",
            "|         US|   48086021|R3MWLXLNO21PDQ|B00IP1MQNK|     488006702|Lumsing 10400mah ...|        Wireless|          5|            0|          0|   N|                Y|          Five Stars|         Works great|2015-08-31 00:00:00|\n",
            "|         US|   12738196|R2L15IS24CX0LI|B00HVORET8|     389677711|iPhone 5S Battery...|        Wireless|          5|            0|          0|   N|                Y|      So far so good|So far so good. I...|2015-08-31 00:00:00|\n",
            "|         US|   15867807|R1DJ8976WPWVZU|B00HX3G6J6|     299654876|HTC One M8 Screen...|        Wireless|          3|            0|          0|   N|                Y|seems durable but...|seems durable but...|2015-08-31 00:00:00|\n",
            "|         US|    1972249|R3MRWNNR8CBTB7|B00U4NATNQ|     577878727|S6 Case - Bear Mo...|        Wireless|          5|            0|          0|   N|                Y|Super thin, light...|Super thin, light...|2015-08-31 00:00:00|\n",
            "|         US|   10956619|R1DS6DKTUXAQK3|B00SZEFDH8|     654620704|BLU Studio X, Unl...|        Wireless|          5|            0|          0|   N|                Y|          Five Stars|As good as the Sa...|2015-08-31 00:00:00|\n",
            "|         US|   14805911| RWJM5E0TWUJD2|B00JRJUL9U|     391166958|EZOPower 5-Port U...|        Wireless|          5|            0|          0|   N|                Y|            EZOPower|I received this o...|2015-08-31 00:00:00|\n",
            "|         US|   15611116|R1XTJKDYNCRGAC|B00KQ4T0HE|     481551630|iPhone 6S Case &i...|        Wireless|          1|            0|          0|   N|                Y|Very cheap case. ...|Very cheap case. ...|2015-08-31 00:00:00|\n",
            "|         US|   39298603|R2UZL3DPWEU1XW|B00M0YWKPM|     685107474| iPhone 6s Plus Case|        Wireless|          5|            0|          0|   N|                Y|          Five Stars|       son loves it.|2015-08-31 00:00:00|\n",
            "|         US|   17552454|R2EZXET9KBFFU3|B00KDZEE68|     148320945|zBoost ZB575-A TR...|        Wireless|          1|            0|          0|   N|                Y|            One Star|you have to turn ...|2015-08-31 00:00:00|\n",
            "|         US|   12218556|R26VY1L1FD3LPU|B00BJN45GM|      47788188|OtterBox Defender...|        Wireless|          5|            0|          0|   N|                Y|          Five Stars|  Awesome, thank you|2015-08-31 00:00:00|\n",
            "|         US|   21872923|R2SSA4NSFCV18T|B00SA86SXW|     748759272|Aduro PowerUP 30W...|        Wireless|          5|            0|          0|   N|                N|          Five Stars|         nice, smart|2015-08-31 00:00:00|\n",
            "|         US|   16264332|R1G6333JHJNEUQ|B00Q3I68TU|     974085141|LilGadgets Connec...|        Wireless|          5|            0|          0|   N|                Y|Great headphones ...|We love these hea...|2015-08-31 00:00:00|\n",
            "|         US|    6042304|R2DRG0UZXJQ0PE|B00TN4J1TA|     716174627|Anker Aluminum Mu...|        Wireless|          5|            0|          0|   N|                Y|          Five Stars|This is well wort...|2015-08-31 00:00:00|\n",
            "+-----------+-----------+--------------+----------+--------------+--------------------+----------------+-----------+-------------+-----------+----+-----------------+--------------------+--------------------+-------------------+\n",
            "only showing top 20 rows\n",
            "\n"
          ]
        }
      ]
    },
    {
      "cell_type": "code",
      "source": [
        "# Filter data to show total votes equal to or greater than 20\n",
        "filtered_df = df.filter(\"total_votes >= 20\")"
      ],
      "metadata": {
        "id": "mzOJShCQ-0W3"
      },
      "execution_count": 4,
      "outputs": []
    },
    {
      "cell_type": "code",
      "source": [
        "# Filter data to show only results where helpful votes make up 50% or more of the total votes\n",
        "filtered_df2 = filtered_df.filter(\"helpful_votes/total_votes >= 0.5\")\n",
        "filtered_df2.show()"
      ],
      "metadata": {
        "colab": {
          "base_uri": "https://localhost:8080/"
        },
        "id": "5vJDtgUz_nuX",
        "outputId": "4d84123d-5ba7-4920-d5c8-1a139a056765"
      },
      "execution_count": 6,
      "outputs": [
        {
          "output_type": "stream",
          "name": "stdout",
          "text": [
            "+-----------+-----------+--------------+----------+--------------+--------------------+----------------+-----------+-------------+-----------+----+-----------------+--------------------+--------------------+-------------------+\n",
            "|marketplace|customer_id|     review_id|product_id|product_parent|       product_title|product_category|star_rating|helpful_votes|total_votes|vine|verified_purchase|     review_headline|         review_body|        review_date|\n",
            "+-----------+-----------+--------------+----------+--------------+--------------------+----------------+-----------+-------------+-----------+----+-----------------+--------------------+--------------------+-------------------+\n",
            "|         US|   44689470|R2WOW0TURNXB26|B00YY3UBV2|     310491927|            Garmin 1|        Wireless|          3|           54|         59|   N|                Y|Pretty Disappoint...|Bought this unit ...|2015-08-31 00:00:00|\n",
            "|         US|     112342|R13VL62Y2HBQ0B|B010VFZJD6|     129632031|iTaste MVP3 PRO -...|        Wireless|          5|           15|         21|   N|                Y|   Excellent battery|I love my Mvp pro...|2015-08-31 00:00:00|\n",
            "|         US|   13557708|R22G55KAPZKJQV|B00C8S8S4W|     998105706|SPOT 3 Satellite ...|        Wireless|          4|           20|         21|   N|                Y|Great but buy the...|My mom made me pu...|2015-08-31 00:00:00|\n",
            "|         US|    3346419|R1610PGTJS7G3N|B011I4XMXS|     431799284|   Ausdom Dash cam 1|        Wireless|          2|           28|         44|   N|                Y| Pretty dissapointed|I was hoping for ...|2015-08-31 00:00:00|\n",
            "|         US|   46029442| RLQL04BL0QXOJ|B00OSTKZWM|     736471392|RCA 5.5-Inch Quad...|        Wireless|          4|           45|         47|   N|                Y|Tried many... Thi...|I had been lookin...|2015-08-31 00:00:00|\n",
            "|         US|   19380011|R2AYJHH8WJNGAU|B013D32WVA|     138975975|Samsung Galaxy No...|        Wireless|          4|           98|        104|   N|                Y|     Time will tell.|I wanted a water ...|2015-08-31 00:00:00|\n",
            "|         US|   22953177|R111DJA10Y6CMU|B013BHLU66|     396362963|Waterproof Case f...|        Wireless|          5|           26|         39|   N|                Y|Great Value - Goo...|First, I will say...|2015-08-31 00:00:00|\n",
            "|         US|   16980808|R2EE2TR4MRDV0U|B00Y1Z87UU|     956867660|IBESTWIN Li-ion R...|        Wireless|          5|           53|         59|   N|                Y|Does it get any b...|A great battery f...|2015-08-31 00:00:00|\n",
            "|         US|   37339397| RD4A80I5JDHED|B00UY29N8Y|     384094161|IncrediSonic M700...|        Wireless|          5|           69|         77|   N|                N|        Virtual Fun!|I was a bit skept...|2015-08-31 00:00:00|\n",
            "|         US|    7830540|R1GU6IYZQWQE8X|B00NPZG6DW|     267673298|      Parrot Zik 2.0|        Wireless|          2|           24|         25|   N|                Y|Crappy lining... ...|These sounds grea...|2015-08-31 00:00:00|\n",
            "|         US|     113760| RZOPM62JMW97V|B00X0X3EQ6|     657509542|OtterBox SYMMETRY...|        Wireless|          2|          103|        108|   N|                Y|AVOID IF YOU ARE ...|Although this cas...|2015-08-31 00:00:00|\n",
            "|         US|   35621482|R1D3NR5GREEXXJ|B013F8C9X4|     561786475|Galaxy Note 5 Cas...|        Wireless|          5|           57|         58|   N|                Y|Great case for a ...|I've been a big f...|2015-08-31 00:00:00|\n",
            "|         US|   45872422|R24BMEHX5EWGEY|B00Z9P06DW|     459992506|ATian 9 inch TFT ...|        Wireless|          2|           26|         30|   N|                Y|Not great - Wirel...|Pretty disappoint...|2015-08-31 00:00:00|\n",
            "|         US|   44137838|R2WYKBQS8OR08O|B010GYYSU2|     518226514|Z-Edge 2.4- inch ...|        Wireless|          5|          168|        176|   N|                Y|  PERFECT DASH CAM !|I returned my gar...|2015-08-31 00:00:00|\n",
            "|         US|   11179629|R3DL0Y1KWYLD5X|B010LXUQNG|     179041214|iPhone 6 Case, Lo...|        Wireless|          5|           36|         37|   N|                Y|You won't be disa...|Let me just say f...|2015-08-31 00:00:00|\n",
            "|         US|   21851130|R3EGDTFDMCOOG4|B010MP3K0O|     868762206|Jackery Titan Por...|        Wireless|          5|           74|         90|   N|                N|Jackery Titan 180...|I was sent this J...|2015-08-31 00:00:00|\n",
            "|         US|     459473|R1MC93W6WG9R3O|B00TRNCN5Q|     736335718|Galaxy Grand Prim...|        Wireless|          1|           22|         22|   N|                Y|            One Star|Too lose does not...|2015-08-31 00:00:00|\n",
            "|         US|    5374752|R35B0B69DYR54L|B00TRC3YF0|     396308462|Rexing F9 2.7” LC...|        Wireless|          1|           18|         22|   N|                Y|The user manual i...|The user manual i...|2015-08-31 00:00:00|\n",
            "|         US|   29179205|R1593EM56412NH|B011VRO5M4|      28128248|iPhone 6S Plus Wa...|        Wireless|          4|           33|         37|   N|                Y|Nice case except ...|I like my new cas...|2015-08-31 00:00:00|\n",
            "|         US|   14971124|R1KEP1DUJK2LD5|B00UH3L82Y|     792159590|Armorsuit - Apple...|        Wireless|          5|           34|         42|   N|                Y|          GREAT!!!!!|I thought I had r...|2015-08-31 00:00:00|\n",
            "+-----------+-----------+--------------+----------+--------------+--------------------+----------------+-----------+-------------+-----------+----+-----------------+--------------------+--------------------+-------------------+\n",
            "only showing top 20 rows\n",
            "\n"
          ]
        }
      ]
    },
    {
      "cell_type": "code",
      "source": [
        "# Select all paid reviews \n",
        "paid_df = filtered_df2.filter(\"vine == 'Y'\").show()"
      ],
      "metadata": {
        "colab": {
          "base_uri": "https://localhost:8080/"
        },
        "id": "B_G9Ewub-3Ig",
        "outputId": "c78f12c1-901c-4f45-badb-b0f20471b5e0"
      },
      "execution_count": 12,
      "outputs": [
        {
          "output_type": "stream",
          "name": "stdout",
          "text": [
            "+-----------+-----------+--------------+----------+--------------+--------------------+----------------+-----------+-------------+-----------+----+-----------------+--------------------+--------------------+-------------------+\n",
            "|marketplace|customer_id|     review_id|product_id|product_parent|       product_title|product_category|star_rating|helpful_votes|total_votes|vine|verified_purchase|     review_headline|         review_body|        review_date|\n",
            "+-----------+-----------+--------------+----------+--------------+--------------------+----------------+-----------+-------------+-----------+----+-----------------+--------------------+--------------------+-------------------+\n",
            "|         US|   48852155|R1MAOLI5FJHAFM|B013X0V11K|     610966690|BLU Studio 7.0 ll...|        Wireless|          4|          249|        261|   Y|                N|More than just a ...|Ever since the ve...|2015-08-31 00:00:00|\n",
            "|         US|   11556116| R9PYAUDIBJVEC|B013X0V4VM|     672788343|BLU Studio C Supe...|        Wireless|          4|           12|         22|   Y|                N|Large clear scree...|I picked this pho...|2015-08-30 00:00:00|\n",
            "|         US|   46671309| R6V9SHMMG5M8F|B013X0V11K|     610966690|BLU Studio 7.0 ll...|        Wireless|          5|          101|        110|   Y|                N|  Very good Phablet!|I remember the da...|2015-08-30 00:00:00|\n",
            "|         US|   49598970|R37PVLT6ELL5J4|B011HT9AL2|     557568833|Tile (Gen 2) - Ph...|        Wireless|          4|          181|        209|   Y|                N|This low-cost tra...|I was initially s...|2015-08-28 00:00:00|\n",
            "|         US|   52057325| R2FSFGWZF24V9|B0129T0XXS|     592405023|BLU Studio C 5+5 ...|        Wireless|          4|           50|         51|   Y|                N|Great phone for a...|I am a TOTAL Ludd...|2015-08-24 00:00:00|\n",
            "|         US|   53019847|R3SRW1E8J56IGV|B0129TQLPW|     226174255|BLU Energy X Plus...|        Wireless|          5|          262|        281|   Y|                N|A bang for the bu...|The BLU Energy X ...|2015-08-16 00:00:00|\n",
            "|         US|   31302915| R86Z11D4CWOFM|B0129T0XXS|     592405023|BLU Studio C 5+5 ...|        Wireless|          4|           32|         36|   Y|                N|Not as pictured, ...|First off, the ph...|2015-08-16 00:00:00|\n",
            "|         US|   50885906| RNP01HW9YISJO|B00W7S34HY|     920588860|Optrix  Waterproo...|        Wireless|          4|           20|         23|   Y|                N|A high quality, c...|Prior to using th...|2015-08-15 00:00:00|\n",
            "|         US|   49110251|R3KLACA6LCDZ0S|B00W75BKQ4|     566439653|Motorola T460 Rec...|        Wireless|          3|           21|         22|   Y|                N|Good feature set ...|In an age of cell...|2015-08-15 00:00:00|\n",
            "|         US|   50125011| RZEQYOT2RE0N7|B0129T0XXS|     592405023|BLU Studio C 5+5 ...|        Wireless|          4|           75|         80|   Y|                N|BLU Studio C 5+5 ...|Amazingly easy to...|2015-08-14 00:00:00|\n",
            "|         US|   39749647|R2WBPX441TH495|B0129TQLPW|     226174255|BLU Energy X Plus...|        Wireless|          5|          202|        221|   Y|                N|       Great Phone!!|My main interest ...|2015-08-13 00:00:00|\n",
            "|         US|   53058973|R2BYBSYHS66ZN8|B0129T0XXS|     592405023|BLU Studio C 5+5 ...|        Wireless|          5|          109|        114|   Y|                N|Simplicity, Quali...|The word &#34;che...|2015-08-12 00:00:00|\n",
            "|         US|   12537483|R3IF59PJGCNU3Q|B011YNPPME|     242359747|BLU Vivo Selfie S...|        Wireless|          4|           42|         54|   Y|                N|Fun & Cheap Phone...|The BLUE Vivo Sel...|2015-08-12 00:00:00|\n",
            "|         US|   35304626|R2IXC6U7W4OCQ9|B0129TQLPW|     226174255|BLU Energy X Plus...|        Wireless|          5|          185|        201|   Y|                N|This is our secon...|This is our secon...|2015-08-11 00:00:00|\n",
            "|         US|   30057302|R1JEI3H9QRP6PH|B011YNPPME|     242359747|BLU Vivo Selfie S...|        Wireless|          5|           15|         22|   Y|                N|   What a Bargain!!!|We have been an i...|2015-08-10 00:00:00|\n",
            "|         US|   52109863|R37L3KGRRR6JTL|B00MCJ4CKG|      91423181|Recon Jet Heads U...|        Wireless|          3|           38|         47|   Y|                N|       Has potential|I was quite excit...|2015-08-05 00:00:00|\n",
            "|         US|   43791073|R1YJ7OKAEML92P|B00TYTBHKU|     399571814|OtterBox Symmetry...|        Wireless|          5|           20|         22|   Y|                N|Saved my phone as...|I will blame the ...|2015-07-31 00:00:00|\n",
            "|         US|   50441881|R3JZJOD2512UVY|B0102OM1IC|     845336843|Sony Xperia M4 Aq...|        Wireless|          4|           85|        101|   Y|                N|First time Androi...|This is my first ...|2015-07-19 00:00:00|\n",
            "|         US|   52591230|R38MY3TK17MXDH|B00N9E6DUK|     272244000|JAWBONE UP3 Activ...|        Wireless|          4|           25|         32|   Y|                N|In-depth review a...|UPDATE, four star...|2015-07-18 00:00:00|\n",
            "|         US|   52594065|R2LWISZ4DSM0I4|B0102OM1IC|     845336843|Sony Xperia M4 Aq...|        Wireless|          5|           28|         33|   Y|                N|Sony Xperia M4 Aq...|Update 10/12/2016...|2015-07-17 00:00:00|\n",
            "+-----------+-----------+--------------+----------+--------------+--------------------+----------------+-----------+-------------+-----------+----+-----------------+--------------------+--------------------+-------------------+\n",
            "only showing top 20 rows\n",
            "\n"
          ]
        }
      ]
    },
    {
      "cell_type": "code",
      "source": [
        "# Select all unpaid reviews\n",
        "unpaid_df = filtered_df2.filter(\"vine == 'N'\").show()"
      ],
      "metadata": {
        "colab": {
          "base_uri": "https://localhost:8080/"
        },
        "id": "KecfO915-5H2",
        "outputId": "65250dc2-700a-41f9-a0a8-1ca4a44482f7"
      },
      "execution_count": 13,
      "outputs": [
        {
          "output_type": "stream",
          "name": "stdout",
          "text": [
            "+-----------+-----------+--------------+----------+--------------+--------------------+----------------+-----------+-------------+-----------+----+-----------------+--------------------+--------------------+-------------------+\n",
            "|marketplace|customer_id|     review_id|product_id|product_parent|       product_title|product_category|star_rating|helpful_votes|total_votes|vine|verified_purchase|     review_headline|         review_body|        review_date|\n",
            "+-----------+-----------+--------------+----------+--------------+--------------------+----------------+-----------+-------------+-----------+----+-----------------+--------------------+--------------------+-------------------+\n",
            "|         US|   44689470|R2WOW0TURNXB26|B00YY3UBV2|     310491927|            Garmin 1|        Wireless|          3|           54|         59|   N|                Y|Pretty Disappoint...|Bought this unit ...|2015-08-31 00:00:00|\n",
            "|         US|     112342|R13VL62Y2HBQ0B|B010VFZJD6|     129632031|iTaste MVP3 PRO -...|        Wireless|          5|           15|         21|   N|                Y|   Excellent battery|I love my Mvp pro...|2015-08-31 00:00:00|\n",
            "|         US|   13557708|R22G55KAPZKJQV|B00C8S8S4W|     998105706|SPOT 3 Satellite ...|        Wireless|          4|           20|         21|   N|                Y|Great but buy the...|My mom made me pu...|2015-08-31 00:00:00|\n",
            "|         US|    3346419|R1610PGTJS7G3N|B011I4XMXS|     431799284|   Ausdom Dash cam 1|        Wireless|          2|           28|         44|   N|                Y| Pretty dissapointed|I was hoping for ...|2015-08-31 00:00:00|\n",
            "|         US|   46029442| RLQL04BL0QXOJ|B00OSTKZWM|     736471392|RCA 5.5-Inch Quad...|        Wireless|          4|           45|         47|   N|                Y|Tried many... Thi...|I had been lookin...|2015-08-31 00:00:00|\n",
            "|         US|   19380011|R2AYJHH8WJNGAU|B013D32WVA|     138975975|Samsung Galaxy No...|        Wireless|          4|           98|        104|   N|                Y|     Time will tell.|I wanted a water ...|2015-08-31 00:00:00|\n",
            "|         US|   22953177|R111DJA10Y6CMU|B013BHLU66|     396362963|Waterproof Case f...|        Wireless|          5|           26|         39|   N|                Y|Great Value - Goo...|First, I will say...|2015-08-31 00:00:00|\n",
            "|         US|   16980808|R2EE2TR4MRDV0U|B00Y1Z87UU|     956867660|IBESTWIN Li-ion R...|        Wireless|          5|           53|         59|   N|                Y|Does it get any b...|A great battery f...|2015-08-31 00:00:00|\n",
            "|         US|   37339397| RD4A80I5JDHED|B00UY29N8Y|     384094161|IncrediSonic M700...|        Wireless|          5|           69|         77|   N|                N|        Virtual Fun!|I was a bit skept...|2015-08-31 00:00:00|\n",
            "|         US|    7830540|R1GU6IYZQWQE8X|B00NPZG6DW|     267673298|      Parrot Zik 2.0|        Wireless|          2|           24|         25|   N|                Y|Crappy lining... ...|These sounds grea...|2015-08-31 00:00:00|\n",
            "|         US|     113760| RZOPM62JMW97V|B00X0X3EQ6|     657509542|OtterBox SYMMETRY...|        Wireless|          2|          103|        108|   N|                Y|AVOID IF YOU ARE ...|Although this cas...|2015-08-31 00:00:00|\n",
            "|         US|   35621482|R1D3NR5GREEXXJ|B013F8C9X4|     561786475|Galaxy Note 5 Cas...|        Wireless|          5|           57|         58|   N|                Y|Great case for a ...|I've been a big f...|2015-08-31 00:00:00|\n",
            "|         US|   45872422|R24BMEHX5EWGEY|B00Z9P06DW|     459992506|ATian 9 inch TFT ...|        Wireless|          2|           26|         30|   N|                Y|Not great - Wirel...|Pretty disappoint...|2015-08-31 00:00:00|\n",
            "|         US|   44137838|R2WYKBQS8OR08O|B010GYYSU2|     518226514|Z-Edge 2.4- inch ...|        Wireless|          5|          168|        176|   N|                Y|  PERFECT DASH CAM !|I returned my gar...|2015-08-31 00:00:00|\n",
            "|         US|   11179629|R3DL0Y1KWYLD5X|B010LXUQNG|     179041214|iPhone 6 Case, Lo...|        Wireless|          5|           36|         37|   N|                Y|You won't be disa...|Let me just say f...|2015-08-31 00:00:00|\n",
            "|         US|   21851130|R3EGDTFDMCOOG4|B010MP3K0O|     868762206|Jackery Titan Por...|        Wireless|          5|           74|         90|   N|                N|Jackery Titan 180...|I was sent this J...|2015-08-31 00:00:00|\n",
            "|         US|     459473|R1MC93W6WG9R3O|B00TRNCN5Q|     736335718|Galaxy Grand Prim...|        Wireless|          1|           22|         22|   N|                Y|            One Star|Too lose does not...|2015-08-31 00:00:00|\n",
            "|         US|    5374752|R35B0B69DYR54L|B00TRC3YF0|     396308462|Rexing F9 2.7” LC...|        Wireless|          1|           18|         22|   N|                Y|The user manual i...|The user manual i...|2015-08-31 00:00:00|\n",
            "|         US|   29179205|R1593EM56412NH|B011VRO5M4|      28128248|iPhone 6S Plus Wa...|        Wireless|          4|           33|         37|   N|                Y|Nice case except ...|I like my new cas...|2015-08-31 00:00:00|\n",
            "|         US|   14971124|R1KEP1DUJK2LD5|B00UH3L82Y|     792159590|Armorsuit - Apple...|        Wireless|          5|           34|         42|   N|                Y|          GREAT!!!!!|I thought I had r...|2015-08-31 00:00:00|\n",
            "+-----------+-----------+--------------+----------+--------------+--------------------+----------------+-----------+-------------+-----------+----+-----------------+--------------------+--------------------+-------------------+\n",
            "only showing top 20 rows\n",
            "\n"
          ]
        }
      ]
    },
    {
      "cell_type": "code",
      "source": [
        "total_paid = paid_df.select('review_id').count()\n",
        "paid_five_star = paid_df.select('review_id').where(paid_df.star_rating==5).count()\n",
        "percent_five_star_paid = paid_five_star/total_paid*100\n",
        "\n",
        "print(\"Total number of paid reviews: \",total_paid)\n",
        "print(\"Number of paid 5 star reviews: \", paid_five_star)\n",
        "print(\"Percent of paid five star reviews: \", percent_five_star_paid)"
      ],
      "metadata": {
        "colab": {
          "base_uri": "https://localhost:8080/"
        },
        "id": "FrTibDE5-6rQ",
        "outputId": "68820f35-be76-49f1-9b22-8c0c47e6e0e3"
      },
      "execution_count": 10,
      "outputs": [
        {
          "output_type": "stream",
          "name": "stdout",
          "text": [
            "Total number of paid reviews:  613\n",
            "Number of paid 5 star reviews:  222\n",
            "Percent of paid five star reviews:  36.215334420880914\n"
          ]
        }
      ]
    },
    {
      "cell_type": "code",
      "source": [
        "total_unpaid = unpaid_df.select('review_id').count()\n",
        "unpaid_five_star = unpaid_df.select('review_id').where(unpaid_df.star_rating==5).count()\n",
        "percent_five_star_unpaid = unpaid_five_star/total_unpaid*100\n",
        "\n",
        "print(\"Total number of unpaid reviews: \",total_unpaid)\n",
        "print(\"Number of unpaid 5 star reviews: \", unpaid_five_star)\n",
        "print(\"Percent of unpaid five star reviews: \", percent_five_star_unpaid)"
      ],
      "metadata": {
        "colab": {
          "base_uri": "https://localhost:8080/"
        },
        "id": "5pgHsTtI-8im",
        "outputId": "be995182-6d29-4793-878e-12f9d9047429"
      },
      "execution_count": 11,
      "outputs": [
        {
          "output_type": "stream",
          "name": "stdout",
          "text": [
            "Total number of unpaid reviews:  64968\n",
            "Number of unpaid 5 star reviews:  30543\n",
            "Percent of unpaid five star reviews:  47.01237532323606\n"
          ]
        }
      ]
    }
  ]
}